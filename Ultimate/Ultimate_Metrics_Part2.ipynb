{
 "cells": [
  {
   "cell_type": "markdown",
   "metadata": {},
   "source": [
    "# Part 2 ‑ Experiment and metrics design\n",
    "The neighboring cities of Gotham and Metropolis have complementary circadian rhythms: on\n",
    "weekdays, Ultimate Gotham is most active at night, and Ultimate Metropolis is most active\n",
    "during the day. On weekends, there is reasonable activity in both cities.\n",
    "However, a toll bridge, with a two way\n",
    "toll, between the two cities causes driver partners to tend\n",
    "to be exclusive to each city. The Ultimate managers of city operations for the two cities have\n",
    "proposed an experiment to encourage driver partners to be available in both cities, by\n",
    "reimbursing all toll costs.\n",
    "1. What would you choose as the key measure of success of this experiment in\n",
    "encouraging driver partners to serve both cities, and why would you choose this metric?\n",
    "\n",
    "2. Describe a practical experiment you would design to compare the effectiveness of the\n",
    "proposed change in relation to the key measure of success. Please provide details on:\n",
    "\n",
    "    a. how you will implement the experiment\n",
    "    \n",
    "    b. what statistical test(s) you will conduct to verify the significance of the\n",
    "observation\n",
    "\n",
    "    c. how you would interpret the results and provide recommendations to the city\n",
    "operations team along with any caveats."
   ]
  },
  {
   "cell_type": "markdown",
   "metadata": {},
   "source": [
    "# Answers\n",
    "1. The goal is to encourage driver partners to be available in both cities. It will not necessarly increase the number of trips taken by all drivers. We know Gotham is most active at night and Metropolis is most active during day time. If we see an increase in activity in Gotham during the day and in Metropolis at night then we will have some level of confidence that this experiment is successful.\n",
    "\n",
    "    I would look at the ratio of number of driver trips [Gotham/daytime + Metropolis/night] to the total number of trips [Gotham + Metropolis] per day over multiple weeks (except weekends) to make sure any change is not dependent on a particular day of the week. In principle, I expect that Gotham will become more active during the day because of Metropolis drivers crossing over to Gotham. The same situation applies to Metropolis at night.<br><br>\n",
    "\n",
    "2. One would carry out an A/B test.\n",
    "\n",
    "    a. The control group would consist of 50% of Gotham drivers and 50% of Metropolis drivers who must still pay toll fees. Our treatment group would be the other 50% from each city who will be able to cross the bridge for free. Drivers in each city behaves similarly since they tend to stay exclusive to each city. Therefore any significant difference in our metric will be relevant. This experiment should run for multiple weeks so that we can collect several data points for each day of the week. Note that our metric is not relevant for weekends as there is reasonable activity in both cities.\n",
    "    \n",
    "    b. Next we need to agree on a significance level. Typically, we can choose 5%. Say we run our experiment for 10 weeks thus we will have 50 observations in each group. We can use a two-sample t-test to determine whether the difference in mean between the two sample is statistically significant (p-value less than our significance level). Because it is costly to run this experiment, we can adjust the number of weeks or number of drivers in each group depending on our budget. If we do have more than 50 observations, we could use a two-sample z-test instead.\n",
    "    \n",
    "    c. If we do see an increase of our metric and it is statistically significant then we can report with confidence an estimate of the percentage increase in trips during low activity period over the two cities.\n",
    "One caveat is the novelty effect where drivers may try their luck in another city just because toll is reimbursed. In that case, one may ignore the first two weeks of this experiment."
   ]
  },
  {
   "cell_type": "code",
   "execution_count": null,
   "metadata": {},
   "outputs": [],
   "source": []
  },
  {
   "cell_type": "code",
   "execution_count": null,
   "metadata": {
    "collapsed": true
   },
   "outputs": [],
   "source": []
  }
 ],
 "metadata": {
  "kernelspec": {
   "display_name": "Python 3",
   "language": "python",
   "name": "python3"
  },
  "language_info": {
   "codemirror_mode": {
    "name": "ipython",
    "version": 3
   },
   "file_extension": ".py",
   "mimetype": "text/x-python",
   "name": "python",
   "nbconvert_exporter": "python",
   "pygments_lexer": "ipython3",
   "version": "3.5.4"
  }
 },
 "nbformat": 4,
 "nbformat_minor": 2
}
