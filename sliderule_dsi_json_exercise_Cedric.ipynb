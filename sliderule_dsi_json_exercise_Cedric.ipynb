{
 "cells": [
  {
   "cell_type": "markdown",
   "metadata": {},
   "source": [
    "****\n",
    "## JSON exercise\n",
    "\n",
    "Using data in file 'data/world_bank_projects.json' and the techniques demonstrated above,\n",
    "1. Find the 10 countries with most projects\n",
    "2. Find the top 10 major project themes (using column 'mjtheme_namecode')\n",
    "3. In 2. above you will notice that some entries have only the code and the name is missing. Create a dataframe with the missing names filled in."
   ]
  },
  {
   "cell_type": "code",
   "execution_count": 1,
   "metadata": {
    "collapsed": true
   },
   "outputs": [],
   "source": [
    "import json\n",
    "import pandas as pd\n",
    "from pandas.io.json import json_normalize"
   ]
  },
  {
   "cell_type": "markdown",
   "metadata": {},
   "source": [
    "## Read json file"
   ]
  },
  {
   "cell_type": "code",
   "execution_count": 2,
   "metadata": {},
   "outputs": [],
   "source": [
    "json_dict = json.load((open('data/world_bank_projects.json')))"
   ]
  },
  {
   "cell_type": "markdown",
   "metadata": {},
   "source": [
    "Taking a look at keys from the first dictionary"
   ]
  },
  {
   "cell_type": "code",
   "execution_count": 3,
   "metadata": {},
   "outputs": [
    {
     "data": {
      "text/plain": [
       "dict_keys(['mjtheme_namecode', 'majorsector_percent', 'lendinginstrtype', 'theme1', 'regionname', 'country_namecode', 'sector4', 'prodlinetext', 'themecode', 'countrycode', 'sector', 'countryname', 'url', 'prodline', 'projectstatusdisplay', 'sector3', 'idacommamt', 'status', 'ibrdcommamt', 'impagency', 'lendprojectcost', 'mjsector_namecode', 'grantamt', 'project_abstract', 'totalcommamt', 'lendinginstr', 'theme_namecode', 'sector_namecode', 'sector2', 'projectdocs', 'id', 'sector1', 'mjtheme', 'mjthemecode', 'supplementprojectflg', 'productlinetype', 'countryshortname', '_id', 'project_name', 'board_approval_month', 'boardapprovaldate', 'approvalfy', 'envassesmentcategorycode', 'borrower', 'projectfinancialtype', 'docty', 'source', 'closingdate', 'totalamt', 'sectorcode'])"
      ]
     },
     "execution_count": 3,
     "metadata": {},
     "output_type": "execute_result"
    }
   ],
   "source": [
    "json_dict[0].keys()"
   ]
  },
  {
   "cell_type": "code",
   "execution_count": 4,
   "metadata": {},
   "outputs": [
    {
     "data": {
      "text/plain": [
       "'Federal Democratic Republic of Ethiopia'"
      ]
     },
     "execution_count": 4,
     "metadata": {},
     "output_type": "execute_result"
    }
   ],
   "source": [
    "json_dict[0].get('countryname')"
   ]
  },
  {
   "cell_type": "markdown",
   "metadata": {},
   "source": [
    "## Create pandas dataframe from list of dict"
   ]
  },
  {
   "cell_type": "code",
   "execution_count": 5,
   "metadata": {},
   "outputs": [],
   "source": [
    "# create Dataframe from json dict\n",
    "df = json_normalize(json_dict)\n",
    "# df.info()\n",
    "# df.head()"
   ]
  },
  {
   "cell_type": "markdown",
   "metadata": {},
   "source": [
    "## Answer to question 1\n",
    "Each entry represents a project. A simple value_counts() will return top contributors in terms of project counts.<br>\n",
    "PS: I thought Africa was a continent."
   ]
  },
  {
   "cell_type": "markdown",
   "metadata": {},
   "source": [
    "### Solution A"
   ]
  },
  {
   "cell_type": "code",
   "execution_count": 6,
   "metadata": {},
   "outputs": [
    {
     "data": {
      "text/plain": [
       "People's Republic of China         19\n",
       "Republic of Indonesia              19\n",
       "Socialist Republic of Vietnam      17\n",
       "Republic of India                  16\n",
       "Republic of Yemen                  13\n",
       "People's Republic of Bangladesh    12\n",
       "Kingdom of Morocco                 12\n",
       "Nepal                              12\n",
       "Africa                             11\n",
       "Republic of Mozambique             11\n",
       "Name: countryname, dtype: int64"
      ]
     },
     "execution_count": 6,
     "metadata": {},
     "output_type": "execute_result"
    }
   ],
   "source": [
    "df.countryname.value_counts()[:10]"
   ]
  },
  {
   "cell_type": "markdown",
   "metadata": {},
   "source": [
    "### Solution B\n",
    "More complicated than it needs to be"
   ]
  },
  {
   "cell_type": "code",
   "execution_count": 7,
   "metadata": {},
   "outputs": [
    {
     "data": {
      "text/plain": [
       "countryname\n",
       "People's Republic of China         19\n",
       "Republic of Indonesia              19\n",
       "Socialist Republic of Vietnam      17\n",
       "Republic of India                  16\n",
       "Republic of Yemen                  13\n",
       "Nepal                              12\n",
       "People's Republic of Bangladesh    12\n",
       "Kingdom of Morocco                 12\n",
       "Africa                             11\n",
       "Republic of Mozambique             11\n",
       "Name: project_name, dtype: int64"
      ]
     },
     "execution_count": 7,
     "metadata": {},
     "output_type": "execute_result"
    }
   ],
   "source": [
    "# group by country and count on aggregate, sort in descending order\n",
    "s_proj = df.groupby('countryname')['project_name'].count().sort_values(ascending = False)\n",
    "# show the first 10\n",
    "s_proj[:10]"
   ]
  },
  {
   "cell_type": "markdown",
   "metadata": {},
   "source": [
    "## Answer to question 2\n",
    "Top 10 major project themes\n",
    "In `'mjtheme_namecode'` there are pairs (code,name). json_normalize() unstack those in dataframe."
   ]
  },
  {
   "cell_type": "code",
   "execution_count": 8,
   "metadata": {},
   "outputs": [],
   "source": [
    "# only keep content of mjtheme_namecode\n",
    "df2 = json_normalize(json_dict, 'mjtheme_namecode')\n",
    "# df2.head()"
   ]
  },
  {
   "cell_type": "code",
   "execution_count": 9,
   "metadata": {},
   "outputs": [
    {
     "data": {
      "text/plain": [
       "Environment and natural resources management    223\n",
       "Rural development                               202\n",
       "Human development                               197\n",
       "Public sector governance                        184\n",
       "Social protection and risk management           158\n",
       "Financial and private sector development        130\n",
       "                                                122\n",
       "Social dev/gender/inclusion                     119\n",
       "Trade and integration                            72\n",
       "Urban development                                47\n",
       "Name: name, dtype: int64"
      ]
     },
     "execution_count": 9,
     "metadata": {},
     "output_type": "execute_result"
    }
   ],
   "source": [
    "df2.name.value_counts()[:10]"
   ]
  },
  {
   "cell_type": "markdown",
   "metadata": {},
   "source": [
    "## Answer to question 3\n",
    "Fill up missing themes. Just verifying there is a unique name for each code (apart from empty string)."
   ]
  },
  {
   "cell_type": "code",
   "execution_count": 10,
   "metadata": {},
   "outputs": [
    {
     "data": {
      "text/plain": [
       "code  name                                        \n",
       "1     Economic management                              33\n",
       "                                                        5\n",
       "10    Rural development                               202\n",
       "                                                       14\n",
       "11    Environment and natural resources management    223\n",
       "                                                       27\n",
       "2     Public sector governance                        184\n",
       "                                                       15\n",
       "3     Rule of law                                      12\n",
       "                                                        3\n",
       "4     Financial and private sector development        130\n",
       "                                                       16\n",
       "5     Trade and integration                            72\n",
       "                                                        5\n",
       "6     Social protection and risk management           158\n",
       "                                                       10\n",
       "7     Social dev/gender/inclusion                     119\n",
       "                                                       11\n",
       "8     Human development                               197\n",
       "                                                       13\n",
       "9     Urban development                                47\n",
       "                                                        3\n",
       "Name: name, dtype: int64"
      ]
     },
     "execution_count": 10,
     "metadata": {},
     "output_type": "execute_result"
    }
   ],
   "source": [
    "df2.groupby('code')['name'].value_counts()"
   ]
  },
  {
   "cell_type": "markdown",
   "metadata": {},
   "source": [
    "### Solution A"
   ]
  },
  {
   "cell_type": "code",
   "execution_count": 11,
   "metadata": {
    "collapsed": true
   },
   "outputs": [],
   "source": [
    "# criteria for missing value\n",
    "mask_empty = df2.name == ''\n",
    "\n",
    "# discard missing values\n",
    "df2_unique = df2[~mask_empty]\n",
    "\n",
    "# drop duplicates\n",
    "df2_unique = df2_unique.drop_duplicates()\n",
    "\n",
    "# set codes as index\n",
    "df2_unique = df2_unique.set_index('code')\n",
    "\n",
    "# fill in missing values\n",
    "df2.loc[mask_empty, 'name'] = df2.loc[mask_empty, 'code'].map(df2_unique.name)"
   ]
  },
  {
   "cell_type": "code",
   "execution_count": 12,
   "metadata": {},
   "outputs": [
    {
     "data": {
      "text/plain": [
       "Environment and natural resources management    250\n",
       "Rural development                               216\n",
       "Human development                               210\n",
       "Public sector governance                        199\n",
       "Social protection and risk management           168\n",
       "Financial and private sector development        146\n",
       "Social dev/gender/inclusion                     130\n",
       "Trade and integration                            77\n",
       "Urban development                                50\n",
       "Economic management                              38\n",
       "Name: name, dtype: int64"
      ]
     },
     "execution_count": 12,
     "metadata": {},
     "output_type": "execute_result"
    }
   ],
   "source": [
    "df2.name.value_counts()[:10]"
   ]
  },
  {
   "cell_type": "markdown",
   "metadata": {},
   "source": [
    "### Solution B"
   ]
  },
  {
   "cell_type": "code",
   "execution_count": 13,
   "metadata": {},
   "outputs": [],
   "source": [
    "# criteria for missing value\n",
    "mask_empty = df2.name == ''\n",
    "\n",
    "# discard missing values\n",
    "df2_unique = df2[~mask_empty]\n",
    "\n",
    "# determine most frequently occurring theme for each code\n",
    "s2_unique = df2_unique.groupby('code')['name'].apply(lambda r: r.mode())\n",
    "\n",
    "# drop 2nd level multi-index created by mode(), there is only one name for each code\n",
    "s2_unique.index = s2_unique.index.droplevel(1)\n",
    "\n",
    "# create a ndarray for each code index in df2 based on s2_unique\n",
    "code_col = s2_unique.reindex(df2.code.values).values\n",
    "\n",
    "# assign missing values\n",
    "df2.loc[mask_empty, 'name'] = code_col[mask_empty]"
   ]
  },
  {
   "cell_type": "code",
   "execution_count": 14,
   "metadata": {},
   "outputs": [
    {
     "data": {
      "text/plain": [
       "Environment and natural resources management    250\n",
       "Rural development                               216\n",
       "Human development                               210\n",
       "Public sector governance                        199\n",
       "Social protection and risk management           168\n",
       "Financial and private sector development        146\n",
       "Social dev/gender/inclusion                     130\n",
       "Trade and integration                            77\n",
       "Urban development                                50\n",
       "Economic management                              38\n",
       "Name: name, dtype: int64"
      ]
     },
     "execution_count": 14,
     "metadata": {},
     "output_type": "execute_result"
    }
   ],
   "source": [
    "df2.name.value_counts()[:10]"
   ]
  },
  {
   "cell_type": "code",
   "execution_count": null,
   "metadata": {
    "collapsed": true
   },
   "outputs": [],
   "source": []
  }
 ],
 "metadata": {
  "kernelspec": {
   "display_name": "Python 3",
   "language": "python",
   "name": "python3"
  },
  "language_info": {
   "codemirror_mode": {
    "name": "ipython",
    "version": 3
   },
   "file_extension": ".py",
   "mimetype": "text/x-python",
   "name": "python",
   "nbconvert_exporter": "python",
   "pygments_lexer": "ipython3",
   "version": "3.5.4"
  }
 },
 "nbformat": 4,
 "nbformat_minor": 2
}
