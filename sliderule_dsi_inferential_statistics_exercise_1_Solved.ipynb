{
 "cells": [
  {
   "cell_type": "markdown",
   "metadata": {},
   "source": [
    "# What is the True Normal Human Body Temperature? \n",
    "\n",
    "#### Background\n",
    "\n",
    "The mean normal body temperature was held to be 37$^{\\circ}$C or 98.6$^{\\circ}$F for more than 120 years since it was first conceptualized and reported by Carl Wunderlich in a famous 1868 book. But, is this value statistically correct?"
   ]
  },
  {
   "cell_type": "markdown",
   "metadata": {},
   "source": [
    "<h3>Exercises</h3>\n",
    "\n",
    "<p>In this exercise, you will analyze a dataset of human body temperatures and employ the concepts of hypothesis testing, confidence intervals, and statistical significance.</p>\n",
    "\n",
    "<p>Answer the following questions <b>in this notebook below and submit to your Github account</b>.</p> \n",
    "\n",
    "<ol>\n",
    "<li>  Is the distribution of body temperatures normal? \n",
    "    <ul>\n",
    "    <li> Although this is not a requirement for CLT to hold (read CLT carefully), it gives us some peace of mind that the population may also be normally distributed if we assume that this sample is representative of the population.\n",
    "    </ul>\n",
    "<li>  Is the sample size large? Are the observations independent?\n",
    "    <ul>\n",
    "    <li> Remember that this is a condition for the CLT, and hence the statistical tests we are using, to apply.\n",
    "    </ul>\n",
    "<li>  Is the true population mean really 98.6 degrees F?\n",
    "    <ul>\n",
    "    <li> Would you use a one-sample or two-sample test? Why?\n",
    "    <li> In this situation, is it appropriate to use the $t$ or $z$ statistic? \n",
    "    <li> Now try using the other test. How is the result be different? Why?\n",
    "    </ul>\n",
    "<li>  Draw a small sample of size 10 from the data and repeat both tests. \n",
    "    <ul>\n",
    "    <li> Which one is the correct one to use? \n",
    "    <li> What do you notice? What does this tell you about the difference in application of the $t$ and $z$ statistic?\n",
    "    </ul>\n",
    "<li>  At what temperature should we consider someone's temperature to be \"abnormal\"?\n",
    "    <ul>\n",
    "    <li> Start by computing the margin of error and confidence interval.\n",
    "    </ul>\n",
    "<li>  Is there a significant difference between males and females in normal temperature?\n",
    "    <ul>\n",
    "    <li> What test did you use and why?\n",
    "    <li> Write a story with your conclusion in the context of the original problem.\n",
    "    </ul>\n",
    "</ol>\n",
    "\n",
    "You can include written notes in notebook cells using Markdown: \n",
    "   - In the control panel at the top, choose Cell > Cell Type > Markdown\n",
    "   - Markdown syntax: http://nestacms.com/docs/creating-content/markdown-cheat-sheet\n",
    "\n",
    "#### Resources\n",
    "\n",
    "+ Information and data sources: http://www.amstat.org/publications/jse/datasets/normtemp.txt, http://www.amstat.org/publications/jse/jse_data_archive.htm\n",
    "+ Markdown syntax: http://nestacms.com/docs/creating-content/markdown-cheat-sheet\n",
    "\n",
    "****"
   ]
  },
  {
   "cell_type": "code",
   "execution_count": 1,
   "metadata": {
    "collapsed": true
   },
   "outputs": [],
   "source": [
    "import pandas as pd\n",
    "import numpy as np\n",
    "import matplotlib.pyplot as plt\n",
    "\n",
    "%matplotlib inline"
   ]
  },
  {
   "cell_type": "code",
   "execution_count": 2,
   "metadata": {
    "collapsed": true
   },
   "outputs": [],
   "source": [
    "df = pd.read_csv('data/human_body_temperature.csv')"
   ]
  },
  {
   "cell_type": "code",
   "execution_count": 3,
   "metadata": {},
   "outputs": [
    {
     "data": {
      "text/html": [
       "<div>\n",
       "<style>\n",
       "    .dataframe thead tr:only-child th {\n",
       "        text-align: right;\n",
       "    }\n",
       "\n",
       "    .dataframe thead th {\n",
       "        text-align: left;\n",
       "    }\n",
       "\n",
       "    .dataframe tbody tr th {\n",
       "        vertical-align: top;\n",
       "    }\n",
       "</style>\n",
       "<table border=\"1\" class=\"dataframe\">\n",
       "  <thead>\n",
       "    <tr style=\"text-align: right;\">\n",
       "      <th></th>\n",
       "      <th>temperature</th>\n",
       "      <th>gender</th>\n",
       "      <th>heart_rate</th>\n",
       "    </tr>\n",
       "  </thead>\n",
       "  <tbody>\n",
       "    <tr>\n",
       "      <th>0</th>\n",
       "      <td>99.3</td>\n",
       "      <td>F</td>\n",
       "      <td>68.0</td>\n",
       "    </tr>\n",
       "    <tr>\n",
       "      <th>1</th>\n",
       "      <td>98.4</td>\n",
       "      <td>F</td>\n",
       "      <td>81.0</td>\n",
       "    </tr>\n",
       "    <tr>\n",
       "      <th>2</th>\n",
       "      <td>97.8</td>\n",
       "      <td>M</td>\n",
       "      <td>73.0</td>\n",
       "    </tr>\n",
       "    <tr>\n",
       "      <th>3</th>\n",
       "      <td>99.2</td>\n",
       "      <td>F</td>\n",
       "      <td>66.0</td>\n",
       "    </tr>\n",
       "    <tr>\n",
       "      <th>4</th>\n",
       "      <td>98.0</td>\n",
       "      <td>F</td>\n",
       "      <td>73.0</td>\n",
       "    </tr>\n",
       "  </tbody>\n",
       "</table>\n",
       "</div>"
      ],
      "text/plain": [
       "   temperature gender  heart_rate\n",
       "0         99.3      F        68.0\n",
       "1         98.4      F        81.0\n",
       "2         97.8      M        73.0\n",
       "3         99.2      F        66.0\n",
       "4         98.0      F        73.0"
      ]
     },
     "execution_count": 3,
     "metadata": {},
     "output_type": "execute_result"
    }
   ],
   "source": [
    "df.head()"
   ]
  },
  {
   "cell_type": "markdown",
   "metadata": {},
   "source": [
    "### 1) Is the distribution of body temperatures normal?"
   ]
  },
  {
   "cell_type": "code",
   "execution_count": 4,
   "metadata": {
    "collapsed": true
   },
   "outputs": [],
   "source": [
    "def plot_ecdf(data, pdf=None):\n",
    "    _ , ax = plt.subplots()\n",
    "    x_data = np.sort(data)\n",
    "    num_data = len(data)\n",
    "    y_data = np.arange(1, num_data+1)/num_data\n",
    "    ax.plot(x_data, y_data, marker='.', linestyle = 'none')\n",
    "    \n",
    "    if pdf == 'normal':\n",
    "        mu = np.mean(data)\n",
    "        sig = np.std(data)\n",
    "        num_gen = int(1e4)\n",
    "        pdf_data = np.random.normal(loc = mu, scale = sig, size = num_gen )\n",
    "        x_pdf_data = np.sort(pdf_data)\n",
    "        y_pdf_data = np.arange(1, num_gen+1)/num_gen\n",
    "        ax.plot(x_pdf_data, y_pdf_data, marker='.', linestyle = 'none',\\\n",
    "                color = 'g', alpha = 0.5)\n",
    "    \n",
    "    return ax"
   ]
  },
  {
   "cell_type": "code",
   "execution_count": 5,
   "metadata": {},
   "outputs": [
    {
     "data": {
      "text/plain": [
       "<matplotlib.legend.Legend at 0x20c3d1c1278>"
      ]
     },
     "execution_count": 5,
     "metadata": {},
     "output_type": "execute_result"
    },
    {
     "data": {
      "image/png": "[encoded data removed]",
      "text/plain": [
       "<matplotlib.figure.Figure at 0x20c3d1c1208>"
      ]
     },
     "metadata": {},
     "output_type": "display_data"
    }
   ],
   "source": [
    "human_temp = df['temperature'].values\n",
    "ax_ecdf = plot_ecdf(human_temp, pdf='normal')\n",
    "ax_ecdf.set_xlabel('Human Body temperature (F)')\n",
    "ax_ecdf.set_ylabel('ECDF')\n",
    "ax_ecdf.legend(['Body Temperature', 'Normal Distribution'])"
   ]
  },
  {
   "cell_type": "markdown",
   "metadata": {},
   "source": [
    "Our generated normal distribution appears to match the cumulative distribution function (CDF) of our data given the same mean and standard deviation as parameters."
   ]
  },
  {
   "cell_type": "markdown",
   "metadata": {},
   "source": [
    "#### Extra: let's see what uncertainties are associated with this sample mean."
   ]
  },
  {
   "cell_type": "code",
   "execution_count": 6,
   "metadata": {
    "collapsed": true
   },
   "outputs": [],
   "source": [
    "num_simu = int(1e6)\n",
    "bs_body_temp = np.empty(num_simu)\n",
    "\n",
    "for i in range(num_simu):\n",
    "    # resampling with replacement\n",
    "    bs_body = np.random.choice(human_temp, size = len(human_temp) )\n",
    "    bs_body_temp[i] = np.mean(bs_body)"
   ]
  },
  {
   "cell_type": "markdown",
   "metadata": {},
   "source": [
    "Our observation mean confidence interval at 95% does not include population mean but we don't know its confidence interval."
   ]
  },
  {
   "cell_type": "code",
   "execution_count": 7,
   "metadata": {},
   "outputs": [
    {
     "name": "stdout",
     "output_type": "stream",
     "text": [
      "Confidence interval at 95%: [ 98.12384615  98.37461538]\n"
     ]
    }
   ],
   "source": [
    "# 95% interval confidence on our observations\n",
    "conf_inter95 = np.percentile(bs_body_temp, [2.5, 97.5])\n",
    "print('Confidence interval at 95%: {}'.format(conf_inter95))"
   ]
  },
  {
   "cell_type": "markdown",
   "metadata": {},
   "source": [
    "### 2) Is the sample size large? Are the observations independent?\n",
    "Remember that this is a condition for the CLT, and hence the statistical tests we are using, to apply."
   ]
  },
  {
   "cell_type": "markdown",
   "metadata": {},
   "source": [
    "Answer: There are 130 samples which is on the relatively low but still **enough** for CLT (n > 30). As long as each temperature observation was recorded for different individuals then observations must be **independent**. Those individuals should be at rest and not sick so there is no sample bias."
   ]
  },
  {
   "cell_type": "markdown",
   "metadata": {},
   "source": [
    "### 3) Is the true population mean really 98.6 degrees F?\n",
    "  * Would you use a one-sample or two-sample test? Why?\n",
    "  * In this situation, is it appropriate to use the $t$ or $z$ statistic? \n",
    "  * Now try using the other test. How is the result be different? Why?"
   ]
  },
  {
   "cell_type": "markdown",
   "metadata": {},
   "source": [
    "We will us a **one-sample test** as we don't have data associated with the population mean of 98.6F."
   ]
  },
  {
   "cell_type": "markdown",
   "metadata": {},
   "source": [
    "####  Z statistic\n",
    "It is most often a one-sided test (aka one-tailed) where we have a **signed difference** (negative here) but one may choose to do a two-sided test (aka two-tailed) where we would quantify the **absolute** difference between two means.<br>\n",
    "Knowing we have enough data hence observations are normally distributed, **it is apppropriate to use z-test**. Even if we don't know the population standard deviation, we can estimate it.<br>\n",
    "\n",
    "We want to know the probability that sample mean minus population mean difference is at least as extreme as it is (-0.35 F).\n",
    "\n",
    "Using the Central Limit Theorem (CLT), we center and reduce our observations so that the resulting $\\mathcal{N}(0,1)$ probabilities are available in lookup tables:<br>\n",
    "<center>$\\large Z = \\frac{ \\overline{X} - \\mu} {\\sigma_{X}} $</center><br>\n",
    "$\\overline{X}$ sample mean <br>\n",
    "$\\mu$  population mean<br>\n",
    "$\\sigma_X$ standard error (adjusted population standard deviation)<br>\n",
    "\n",
    "<center>$\\large \\sigma_X = \\frac{\\sigma} {\\sqrt{n}}$<br></center>\n",
    "$\\sigma_X$ standard error (adjusted population standard deviation)<br>\n",
    "$n$ number of samples<br>\n",
    "$\\sigma$ population standard deviation (Important: approximated by sample standard deviation because n > 30)"
   ]
  },
  {
   "cell_type": "code",
   "execution_count": 8,
   "metadata": {},
   "outputs": [
    {
     "name": "stdout",
     "output_type": "stream",
     "text": [
      "Z-score = -5.476\n"
     ]
    }
   ],
   "source": [
    "# true mean temperature\n",
    "mean_popu_temp = 98.6\n",
    "\n",
    "# mean and standard deviation from observations\n",
    "mean_clt = np.mean(human_temp)\n",
    "sigma_clt = np.std(human_temp)\n",
    "\n",
    "# standard error\n",
    "z_sigma_err = sigma_clt/np.sqrt(len(human_temp))\n",
    "\n",
    "# center and reduce population mean\n",
    "z_score = (mean_clt - mean_popu_temp) / z_sigma_err\n",
    "print('Z-score = {:.3f}'.format(z_score))"
   ]
  },
  {
   "cell_type": "markdown",
   "metadata": {},
   "source": [
    "Looking at one-sided z-score [table like this one](http://www.stat.ufl.edu/~athienit/Tables/tables), we have the following result:<br>\n",
    "$$P( \\overline{X} \\geq 98.6) = P( Z \\leq -5.5) = P( Z \\geq 5.5) =  1.9\\mathrm{E}{-8} = 0.00000198 \\% $$<br>\n",
    "It is very unlikely that 98.6 is the true mean.\n",
    "\n",
    "Note: Most z-score table don't report Z values higher than 3 or 4. I actually have a printed table from my stats course from 2007 which gives a probability for 5.5"
   ]
  },
  {
   "cell_type": "markdown",
   "metadata": {},
   "source": [
    "#### T statistic\n",
    "T-test tables are also available one-side or two-sided.\n",
    "P-value derived from two-sided test should be roughly twice its one-sided counterpart because our distribution is approximately normal or at least symmetrical. We don't know the population variance but t-test assumes it is unknown. Hence, we estimate the standard error a little differently and we will look at t-test tables that takes into account the number of samples. It should yield very similar result as our z-score.\n",
    "\n",
    "<center>$\\large \\sigma_X = \\frac{\\sigma} {\\sqrt{n-1}}$<br></center>\n",
    "$\\sigma_X$ standard error (adjusted population standard deviation)<br>\n",
    "$n$ number of samples (n-1 is our degree of freedom here)<br>\n",
    "$\\sigma$ population standard deviation (Important: approximated by sample standard deviation because n > 30)\n",
    "\n",
    "Degree of freedom = number of samples-1 (for one sample t-test)"
   ]
  },
  {
   "cell_type": "code",
   "execution_count": 9,
   "metadata": {},
   "outputs": [
    {
     "name": "stdout",
     "output_type": "stream",
     "text": [
      "Degree of freedom = 129\n",
      "T-score = -5.455\n"
     ]
    }
   ],
   "source": [
    "# degree of freedom\n",
    "degree_freedom = len(human_temp)-1\n",
    "print('Degree of freedom = {}'.format(degree_freedom))\n",
    "\n",
    "# standard error\n",
    "t_sigma_err = sigma_clt/np.sqrt(degree_freedom)\n",
    "\n",
    "# t-score\n",
    "t_score = (mean_clt - mean_popu_temp) / t_sigma_err\n",
    "print('T-score = {:.3f}'.format(t_score))"
   ]
  },
  {
   "cell_type": "markdown",
   "metadata": {},
   "source": [
    "Looking at t-score [table](http://socr.ucla.edu/Applets.dir/T-table.html), because we have a degree of freedom greater than 120, we will look at the infinity row. The maximum number in that last row is 3.291, still inferior to 5.455. All we know is the probability is significantly less than 0.0005 or 0.05%.<br>\n",
    "$$P( \\overline{X} \\geq 98.6) << 0.05\\% $$<br>\n",
    "\n",
    "We can draw the same conclusion as our z-score where it is higly unlikely our true mean is 98.6"
   ]
  },
  {
   "cell_type": "markdown",
   "metadata": {},
   "source": [
    "### 4) Draw a small sample of size 10 from the data and repeat both tests. \n",
    "* Which one is the correct one to use? \n",
    "* What do you notice? What does this tell you about the difference in application of the $t$ and $z$ statistic?"
   ]
  },
  {
   "cell_type": "code",
   "execution_count": 10,
   "metadata": {
    "collapsed": true
   },
   "outputs": [],
   "source": [
    "# select 10 samples at random (uniformly)\n",
    "human_temp_small = np.random.choice(human_temp, size=10, replace=False)"
   ]
  },
  {
   "cell_type": "code",
   "execution_count": 11,
   "metadata": {},
   "outputs": [
    {
     "name": "stdout",
     "output_type": "stream",
     "text": [
      "Z-score = -3.518\n"
     ]
    }
   ],
   "source": [
    "# mean and standard deviation from observations\n",
    "sigma_clt_small = np.std(human_temp_small)\n",
    "mean_clt_small = np.mean(human_temp_small)\n",
    "\n",
    "# z-test standard error\n",
    "z_sigma_err_small = sigma_clt_small/np.sqrt(len(human_temp_small))\n",
    "\n",
    "# z-score\n",
    "z_score_small = (mean_clt_small - mean_popu_temp) / z_sigma_err_small\n",
    "print('Z-score = {:.3f}'.format(z_score_small))"
   ]
  },
  {
   "cell_type": "markdown",
   "metadata": {},
   "source": [
    "Looking at z-score table, we have the following result:<br>\n",
    "$$P( \\overline{X} \\geq 98.6) = P( Z \\leq -2.83) =  0.0023 = 0.23 \\% $$<br>"
   ]
  },
  {
   "cell_type": "code",
   "execution_count": 12,
   "metadata": {},
   "outputs": [
    {
     "name": "stdout",
     "output_type": "stream",
     "text": [
      "Degree of freedom = 9\n",
      "T-score = -3.338\n"
     ]
    }
   ],
   "source": [
    "# t-score, degree of freedom\n",
    "degree_freedom_small = len(human_temp_small)-1\n",
    "print('Degree of freedom = {}'.format(degree_freedom_small))\n",
    "\n",
    "# t-score standard error\n",
    "t_sigma_err_small = sigma_clt_small/np.sqrt(degree_freedom_small)\n",
    "\n",
    "# t-score\n",
    "t_score_small = (mean_clt_small - mean_popu_temp) / t_sigma_err_small\n",
    "print('T-score = {:.3f}'.format(t_score_small))"
   ]
  },
  {
   "cell_type": "code",
   "execution_count": 13,
   "metadata": {},
   "outputs": [
    {
     "name": "stdout",
     "output_type": "stream",
     "text": [
      "Probability from table = 1.000000e-02\n"
     ]
    }
   ],
   "source": [
    "t_proba_small = np.interp(-t_score_small, [2.262, 2.821], [0.025, 0.01])\n",
    "# t(alpha, n) are t(0.025,9)=2.262 and t(0.01,9)=2.821\n",
    "# alpha: probability\n",
    "# n: degree of freedom\n",
    "\n",
    "print('Probability from table = {:e}'.format(t_proba_small))"
   ]
  },
  {
   "cell_type": "markdown",
   "metadata": {},
   "source": [
    "Looking at t-test table, we have the following result:<br>\n",
    "$$P( \\overline{X} \\geq 98.6) = P( T \\leq -2.689) = P( T \\geq 2.689) = 0.01355 = 1.35 \\% $$<br>"
   ]
  },
  {
   "cell_type": "markdown",
   "metadata": {},
   "source": [
    "Having only 10 samples, we should use t-test table. There isn't enough samples to make the assumption that our mean samples is normally distributed. Z-test and T-test both return low probabilities. However, z-score is ~6x less than that of t-score."
   ]
  },
  {
   "cell_type": "markdown",
   "metadata": {},
   "source": [
    "### 5) At what temperature should we consider someone's temperature to be \"abnormal\"?\n",
    "Start by computing the margin of error and confidence interval."
   ]
  },
  {
   "cell_type": "markdown",
   "metadata": {},
   "source": [
    "Margin of error depends on our choice of significance level.<br>\n",
    "For normal distribution:\n",
    "* 2*sigma => 95%\n",
    "* 3*sigma => 99%\n",
    "\n",
    "Let's choose 3 sigma where only extreme values are considered abnormal."
   ]
  },
  {
   "cell_type": "code",
   "execution_count": 14,
   "metadata": {},
   "outputs": [
    {
     "name": "stdout",
     "output_type": "stream",
     "text": [
      "Margin of error at 99% = 0.19\n"
     ]
    }
   ],
   "source": [
    "# 3 sigma margin of error\n",
    "margin_error = 3 * z_sigma_err\n",
    "print('Margin of error at 99% = {:.2f}'.format(margin_error))"
   ]
  },
  {
   "cell_type": "code",
   "execution_count": 15,
   "metadata": {},
   "outputs": [
    {
     "name": "stdout",
     "output_type": "stream",
     "text": [
      "Confidence interval at 99%: [98.06 98.44]\n",
      "Confidence interval at 99% from hacker stats: [98.08 98.41]\n"
     ]
    }
   ],
   "source": [
    "# 99% confidence interval based on margin of error\n",
    "conf99_moe = [mean_clt-margin_error, mean_clt+margin_error]\n",
    "print('Confidence interval at 99%: [{:.2f} {:.2f}]'.format(*conf99_moe))\n",
    "\n",
    "# 99% interval confidence on our observations\n",
    "conf_inter99 = np.percentile(bs_body_temp, [0.5, 99.5])\n",
    "print('Confidence interval at 99% from hacker stats: [{:.2f} {:.2f}]'.format(*conf_inter99))"
   ]
  },
  {
   "cell_type": "markdown",
   "metadata": {},
   "source": [
    "### 6) Is there a significant difference between males and females in normal temperature?\n",
    "* What test did you use and why?\n",
    "* Write a story with your conclusion in the context of the original problem."
   ]
  },
  {
   "cell_type": "code",
   "execution_count": 16,
   "metadata": {},
   "outputs": [
    {
     "data": {
      "text/plain": [
       "(12, 15)"
      ]
     },
     "execution_count": 16,
     "metadata": {},
     "output_type": "execute_result"
    }
   ],
   "source": [
    "# create boolean indexer for normal temperature as per our confidence interval\n",
    "low_end, high_end = conf99_moe\n",
    "crit_norm = (df.temperature >= low_end) & (df.temperature <= high_end)\n",
    "\n",
    "# get male and female temperature data\n",
    "human_male = df.loc[(df.gender == 'M') & crit_norm,'temperature'].values\n",
    "human_female = df.loc[(df.gender == 'F') & crit_norm,'temperature'].values\n",
    "\n",
    "# number of samples for each gender female then male\n",
    "len(human_male), len(human_female)"
   ]
  },
  {
   "cell_type": "markdown",
   "metadata": {},
   "source": [
    "We want to know whether male temperature distribution is the same as female.<br>\n",
    "We will perform a two sample test using permutation.<br> \n",
    "Test statistic: difference of mean <br>\n",
    "Null hypothesis: there is no difference between male and female normal temperatures (distributions are the same). It just happened that there is a difference for our two samples<br>"
   ]
  },
  {
   "cell_type": "code",
   "execution_count": 17,
   "metadata": {},
   "outputs": [
    {
     "data": {
      "text/plain": [
       "0.69108999999999998"
      ]
     },
     "execution_count": 17,
     "metadata": {},
     "output_type": "execute_result"
    }
   ],
   "source": [
    "# initial difference of mean\n",
    "mean_gender_diff = np.mean(human_male) - np.mean(human_female)\n",
    "\n",
    "# combine data\n",
    "humans = np.concatenate((human_male,human_female))\n",
    "\n",
    "# number of permutation\n",
    "num_perm = int(1e5)\n",
    "mean_gender_perm_diff = np.empty(num_perm)\n",
    "\n",
    "for i in range(num_perm):\n",
    "    # permutation\n",
    "    humans_perm = np.random.permutation(humans)\n",
    "    human_male_perm = humans_perm[:len(human_male)]\n",
    "    human_female_perm = humans_perm[len(human_male):]\n",
    "\n",
    "    # mean difference\n",
    "    mean_gender_perm_diff[i] = np.mean(human_male_perm) - np.mean(human_female_perm)\n",
    "\n",
    "# p value based on permutation simulation\n",
    "np.sum( mean_gender_perm_diff >=  mean_gender_diff) / len(mean_gender_perm_diff)"
   ]
  },
  {
   "cell_type": "markdown",
   "metadata": {},
   "source": [
    "P-value is not statistically significant (>0.01) so we are likely to reject the null hypothesis. Male and female are not likely the same.**Yes there is a significant difference.**"
   ]
  },
  {
   "cell_type": "code",
   "execution_count": 18,
   "metadata": {},
   "outputs": [
    {
     "data": {
      "text/plain": [
       "(98.266666666666652, 98.280000000000015)"
      ]
     },
     "execution_count": 18,
     "metadata": {},
     "output_type": "execute_result"
    }
   ],
   "source": [
    "np.mean(human_male), np.mean(human_female)"
   ]
  },
  {
   "cell_type": "markdown",
   "metadata": {},
   "source": [
    "### Conclusion\n",
    "It appears that the true human body temperature of 98.6 F may not be valid anymore and this value changes based on people's gender."
   ]
  },
  {
   "cell_type": "markdown",
   "metadata": {},
   "source": [
    "# Extras"
   ]
  },
  {
   "cell_type": "markdown",
   "metadata": {},
   "source": [
    "#### Question 3: Hacker statistics\n",
    "The mean temperature of our data set is 98.25 degree F which is lower than the true population mean.<br>"
   ]
  },
  {
   "cell_type": "code",
   "execution_count": 19,
   "metadata": {},
   "outputs": [
    {
     "name": "stdout",
     "output_type": "stream",
     "text": [
      "98.25 F\n"
     ]
    }
   ],
   "source": [
    "mean_obs_temp = np.mean(human_temp)\n",
    "print('{:.2f} F'.format(mean_obs_temp))"
   ]
  },
  {
   "cell_type": "markdown",
   "metadata": {},
   "source": [
    "Let's say our mean temperature is actually the same as the true mean. This is our null hypothesis.<br>\n",
    "We can repeat our experimental many times by producing bootstrapping replicates using **one-sample test** as we are comparing one set of data to a single value."
   ]
  },
  {
   "cell_type": "code",
   "execution_count": 20,
   "metadata": {
    "collapsed": true
   },
   "outputs": [],
   "source": [
    "# Adjust the mean to match the other mean first to verify our hypothesis\n",
    "human_temp_shifted = human_temp - mean_obs_temp + mean_popu_temp\n",
    "\n",
    "num_simu = int(1e6)\n",
    "bs_temp = np.empty(num_simu)\n",
    "\n",
    "for i in range(num_simu):\n",
    "    # resampling with replacement\n",
    "    bs_body = np.random.choice(human_temp_shifted, size = len(human_temp_shifted) )\n",
    "    bs_temp[i] = np.mean(bs_body)\n",
    "    \n",
    "# bootstrapped difference of mean\n",
    "bs_body_temp_diff = bs_temp - mean_popu_temp"
   ]
  },
  {
   "cell_type": "code",
   "execution_count": 21,
   "metadata": {},
   "outputs": [
    {
     "name": "stdout",
     "output_type": "stream",
     "text": [
      "Observed difference in mean values = -0.35\n"
     ]
    },
    {
     "data": {
      "image/png": "[encoded data removed]",
      "text/plain": [
       "<matplotlib.figure.Figure at 0x20c3d398630>"
      ]
     },
     "metadata": {},
     "output_type": "display_data"
    }
   ],
   "source": [
    "# test statistic: difference of mean\n",
    "# Observed-population difference of mean\n",
    "obs_mean_diff = mean_obs_temp - mean_popu_temp\n",
    "print('Observed difference in mean values = {:.2f}'.format(obs_mean_diff))\n",
    "\n",
    "# plot histogram of mean difference (test statistic)\n",
    "_ = plt.hist(bs_body_temp_diff, bins = 100, range=(-0.5,0.5), normed=True)"
   ]
  },
  {
   "cell_type": "code",
   "execution_count": 22,
   "metadata": {},
   "outputs": [
    {
     "name": "stdout",
     "output_type": "stream",
     "text": [
      "p-value = 0.000000e+00\n"
     ]
    }
   ],
   "source": [
    "# compute p-value\n",
    "# Percent chance of having a mean difference at least as extreme as in our observation assuming null hypothesis is true.\n",
    "# less than inequality because the observed difference is negative\n",
    "p_value = np.sum( bs_body_temp_diff <= obs_mean_diff ) / len(bs_body_temp_diff)\n",
    "print('p-value = {:e}'.format(p_value))"
   ]
  },
  {
   "cell_type": "markdown",
   "metadata": {},
   "source": [
    "There is NOT one case out of 1 million where the difference in mean is at least as extreme as -0.35 F assuming equal means. This result suggests our observed mean is more likely to be the true mean (i.e not 98.6F as suggested)."
   ]
  }
 ],
 "metadata": {
  "kernelspec": {
   "display_name": "Python 3",
   "language": "python",
   "name": "python3"
  },
  "language_info": {
   "codemirror_mode": {
    "name": "ipython",
    "version": 3
   },
   "file_extension": ".py",
   "mimetype": "text/x-python",
   "name": "python",
   "nbconvert_exporter": "python",
   "pygments_lexer": "ipython3",
   "version": "3.5.4"
  }
 },
 "nbformat": 4,
 "nbformat_minor": 1
}
